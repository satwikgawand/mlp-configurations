{
 "cells": [
  {
   "cell_type": "code",
   "execution_count": 1,
   "metadata": {},
   "outputs": [
    {
     "ename": "KeyboardInterrupt",
     "evalue": "",
     "output_type": "error",
     "traceback": [
      "\u001b[0;31m---------------------------------------------------------------------------\u001b[0m",
      "\u001b[0;31mKeyboardInterrupt\u001b[0m                         Traceback (most recent call last)",
      "Cell \u001b[0;32mIn[1], line 4\u001b[0m\n\u001b[1;32m      1\u001b[0m \u001b[39m# import libraries\u001b[39;00m\n\u001b[1;32m      3\u001b[0m \u001b[39mimport\u001b[39;00m \u001b[39mpandas\u001b[39;00m \u001b[39mas\u001b[39;00m \u001b[39mpd\u001b[39;00m\n\u001b[0;32m----> 4\u001b[0m \u001b[39mimport\u001b[39;00m \u001b[39mtensorflow\u001b[39;00m \u001b[39mas\u001b[39;00m \u001b[39mtf\u001b[39;00m\n\u001b[1;32m      5\u001b[0m \u001b[39mimport\u001b[39;00m \u001b[39mmatplotlib\u001b[39;00m\u001b[39m.\u001b[39;00m\u001b[39mpyplot\u001b[39;00m \u001b[39mas\u001b[39;00m \u001b[39mplt\u001b[39;00m\n\u001b[1;32m      7\u001b[0m \u001b[39mfrom\u001b[39;00m \u001b[39mtensorflow\u001b[39;00m \u001b[39mimport\u001b[39;00m keras\n",
      "File \u001b[0;32m~/.local/lib/python3.10/site-packages/tensorflow/__init__.py:37\u001b[0m\n\u001b[1;32m     34\u001b[0m \u001b[39mimport\u001b[39;00m \u001b[39msys\u001b[39;00m \u001b[39mas\u001b[39;00m \u001b[39m_sys\u001b[39;00m\n\u001b[1;32m     35\u001b[0m \u001b[39mimport\u001b[39;00m \u001b[39mtyping\u001b[39;00m \u001b[39mas\u001b[39;00m \u001b[39m_typing\u001b[39;00m\n\u001b[0;32m---> 37\u001b[0m \u001b[39mfrom\u001b[39;00m \u001b[39mtensorflow\u001b[39;00m\u001b[39m.\u001b[39;00m\u001b[39mpython\u001b[39;00m\u001b[39m.\u001b[39;00m\u001b[39mtools\u001b[39;00m \u001b[39mimport\u001b[39;00m module_util \u001b[39mas\u001b[39;00m _module_util\n\u001b[1;32m     38\u001b[0m \u001b[39mfrom\u001b[39;00m \u001b[39mtensorflow\u001b[39;00m\u001b[39m.\u001b[39;00m\u001b[39mpython\u001b[39;00m\u001b[39m.\u001b[39;00m\u001b[39mutil\u001b[39;00m\u001b[39m.\u001b[39;00m\u001b[39mlazy_loader\u001b[39;00m \u001b[39mimport\u001b[39;00m LazyLoader \u001b[39mas\u001b[39;00m _LazyLoader\n\u001b[1;32m     40\u001b[0m \u001b[39m# Make sure code inside the TensorFlow codebase can use tf2.enabled() at import.\u001b[39;00m\n",
      "File \u001b[0;32m~/.local/lib/python3.10/site-packages/tensorflow/python/__init__.py:45\u001b[0m\n\u001b[1;32m     43\u001b[0m \u001b[39mfrom\u001b[39;00m \u001b[39mtensorflow\u001b[39;00m\u001b[39m.\u001b[39;00m\u001b[39mpython\u001b[39;00m \u001b[39mimport\u001b[39;00m distribute\n\u001b[1;32m     44\u001b[0m \u001b[39m# from tensorflow.python import keras\u001b[39;00m\n\u001b[0;32m---> 45\u001b[0m \u001b[39mfrom\u001b[39;00m \u001b[39mtensorflow\u001b[39;00m\u001b[39m.\u001b[39;00m\u001b[39mpython\u001b[39;00m\u001b[39m.\u001b[39;00m\u001b[39mfeature_column\u001b[39;00m \u001b[39mimport\u001b[39;00m feature_column_lib \u001b[39mas\u001b[39;00m feature_column\n\u001b[1;32m     46\u001b[0m \u001b[39m# from tensorflow.python.layers import layers\u001b[39;00m\n\u001b[1;32m     47\u001b[0m \u001b[39mfrom\u001b[39;00m \u001b[39mtensorflow\u001b[39;00m\u001b[39m.\u001b[39;00m\u001b[39mpython\u001b[39;00m\u001b[39m.\u001b[39;00m\u001b[39mmodule\u001b[39;00m \u001b[39mimport\u001b[39;00m module\n",
      "File \u001b[0;32m~/.local/lib/python3.10/site-packages/tensorflow/python/feature_column/feature_column_lib.py:18\u001b[0m\n\u001b[1;32m     15\u001b[0m \u001b[39m\"\"\"FeatureColumns: tools for ingesting and representing features.\"\"\"\u001b[39;00m\n\u001b[1;32m     17\u001b[0m \u001b[39m# pylint: disable=unused-import,line-too-long,wildcard-import,g-bad-import-order\u001b[39;00m\n\u001b[0;32m---> 18\u001b[0m \u001b[39mfrom\u001b[39;00m \u001b[39mtensorflow\u001b[39;00m\u001b[39m.\u001b[39;00m\u001b[39mpython\u001b[39;00m\u001b[39m.\u001b[39;00m\u001b[39mfeature_column\u001b[39;00m\u001b[39m.\u001b[39;00m\u001b[39mfeature_column\u001b[39;00m \u001b[39mimport\u001b[39;00m \u001b[39m*\u001b[39m\n\u001b[1;32m     19\u001b[0m \u001b[39mfrom\u001b[39;00m \u001b[39mtensorflow\u001b[39;00m\u001b[39m.\u001b[39;00m\u001b[39mpython\u001b[39;00m\u001b[39m.\u001b[39;00m\u001b[39mfeature_column\u001b[39;00m\u001b[39m.\u001b[39;00m\u001b[39mfeature_column_v2\u001b[39;00m \u001b[39mimport\u001b[39;00m \u001b[39m*\u001b[39m\n\u001b[1;32m     20\u001b[0m \u001b[39mfrom\u001b[39;00m \u001b[39mtensorflow\u001b[39;00m\u001b[39m.\u001b[39;00m\u001b[39mpython\u001b[39;00m\u001b[39m.\u001b[39;00m\u001b[39mfeature_column\u001b[39;00m\u001b[39m.\u001b[39;00m\u001b[39msequence_feature_column\u001b[39;00m \u001b[39mimport\u001b[39;00m \u001b[39m*\u001b[39m\n",
      "File \u001b[0;32m~/.local/lib/python3.10/site-packages/tensorflow/python/feature_column/feature_column.py:143\u001b[0m\n\u001b[1;32m    141\u001b[0m \u001b[39mfrom\u001b[39;00m \u001b[39mtensorflow\u001b[39;00m\u001b[39m.\u001b[39;00m\u001b[39mpython\u001b[39;00m\u001b[39m.\u001b[39;00m\u001b[39mframework\u001b[39;00m \u001b[39mimport\u001b[39;00m sparse_tensor \u001b[39mas\u001b[39;00m sparse_tensor_lib\n\u001b[1;32m    142\u001b[0m \u001b[39mfrom\u001b[39;00m \u001b[39mtensorflow\u001b[39;00m\u001b[39m.\u001b[39;00m\u001b[39mpython\u001b[39;00m\u001b[39m.\u001b[39;00m\u001b[39mframework\u001b[39;00m \u001b[39mimport\u001b[39;00m tensor_shape\n\u001b[0;32m--> 143\u001b[0m \u001b[39mfrom\u001b[39;00m \u001b[39mtensorflow\u001b[39;00m\u001b[39m.\u001b[39;00m\u001b[39mpython\u001b[39;00m\u001b[39m.\u001b[39;00m\u001b[39mlayers\u001b[39;00m \u001b[39mimport\u001b[39;00m base\n\u001b[1;32m    144\u001b[0m \u001b[39mfrom\u001b[39;00m \u001b[39mtensorflow\u001b[39;00m\u001b[39m.\u001b[39;00m\u001b[39mpython\u001b[39;00m\u001b[39m.\u001b[39;00m\u001b[39mops\u001b[39;00m \u001b[39mimport\u001b[39;00m array_ops\n\u001b[1;32m    145\u001b[0m \u001b[39mfrom\u001b[39;00m \u001b[39mtensorflow\u001b[39;00m\u001b[39m.\u001b[39;00m\u001b[39mpython\u001b[39;00m\u001b[39m.\u001b[39;00m\u001b[39mops\u001b[39;00m \u001b[39mimport\u001b[39;00m check_ops\n",
      "File \u001b[0;32m~/.local/lib/python3.10/site-packages/tensorflow/python/layers/base.py:16\u001b[0m\n\u001b[1;32m      1\u001b[0m \u001b[39m# Copyright 2015 The TensorFlow Authors. All Rights Reserved.\u001b[39;00m\n\u001b[1;32m      2\u001b[0m \u001b[39m#\u001b[39;00m\n\u001b[1;32m      3\u001b[0m \u001b[39m# Licensed under the Apache License, Version 2.0 (the \"License\");\u001b[39;00m\n\u001b[0;32m   (...)\u001b[0m\n\u001b[1;32m     13\u001b[0m \u001b[39m# limitations under the License.\u001b[39;00m\n\u001b[1;32m     14\u001b[0m \u001b[39m# =============================================================================\u001b[39;00m\n\u001b[1;32m     15\u001b[0m \u001b[39m\"\"\"Contains the base Layer class, from which all layers inherit.\"\"\"\u001b[39;00m\n\u001b[0;32m---> 16\u001b[0m \u001b[39mfrom\u001b[39;00m \u001b[39mtensorflow\u001b[39;00m\u001b[39m.\u001b[39;00m\u001b[39mpython\u001b[39;00m\u001b[39m.\u001b[39;00m\u001b[39mkeras\u001b[39;00m\u001b[39m.\u001b[39;00m\u001b[39mlegacy_tf_layers\u001b[39;00m \u001b[39mimport\u001b[39;00m base\n\u001b[1;32m     18\u001b[0m InputSpec \u001b[39m=\u001b[39m base\u001b[39m.\u001b[39mInputSpec\n\u001b[1;32m     20\u001b[0m keras_style_scope \u001b[39m=\u001b[39m base\u001b[39m.\u001b[39mkeras_style_scope\n",
      "File \u001b[0;32m~/.local/lib/python3.10/site-packages/tensorflow/python/keras/__init__.py:25\u001b[0m\n\u001b[1;32m     22\u001b[0m \u001b[39mfrom\u001b[39;00m \u001b[39mtensorflow\u001b[39;00m\u001b[39m.\u001b[39;00m\u001b[39mpython\u001b[39;00m\u001b[39m.\u001b[39;00m\u001b[39mkeras\u001b[39;00m \u001b[39mimport\u001b[39;00m distribute\n\u001b[1;32m     24\u001b[0m \u001b[39m# See b/110718070#comment18 for more details about this import.\u001b[39;00m\n\u001b[0;32m---> 25\u001b[0m \u001b[39mfrom\u001b[39;00m \u001b[39mtensorflow\u001b[39;00m\u001b[39m.\u001b[39;00m\u001b[39mpython\u001b[39;00m\u001b[39m.\u001b[39;00m\u001b[39mkeras\u001b[39;00m \u001b[39mimport\u001b[39;00m models\n\u001b[1;32m     27\u001b[0m \u001b[39mfrom\u001b[39;00m \u001b[39mtensorflow\u001b[39;00m\u001b[39m.\u001b[39;00m\u001b[39mpython\u001b[39;00m\u001b[39m.\u001b[39;00m\u001b[39mkeras\u001b[39;00m\u001b[39m.\u001b[39;00m\u001b[39mengine\u001b[39;00m\u001b[39m.\u001b[39;00m\u001b[39minput_layer\u001b[39;00m \u001b[39mimport\u001b[39;00m Input\n\u001b[1;32m     28\u001b[0m \u001b[39mfrom\u001b[39;00m \u001b[39mtensorflow\u001b[39;00m\u001b[39m.\u001b[39;00m\u001b[39mpython\u001b[39;00m\u001b[39m.\u001b[39;00m\u001b[39mkeras\u001b[39;00m\u001b[39m.\u001b[39;00m\u001b[39mengine\u001b[39;00m\u001b[39m.\u001b[39;00m\u001b[39msequential\u001b[39;00m \u001b[39mimport\u001b[39;00m Sequential\n",
      "File \u001b[0;32m~/.local/lib/python3.10/site-packages/tensorflow/python/keras/models.py:19\u001b[0m\n\u001b[1;32m     16\u001b[0m \u001b[39m\"\"\"Code for model cloning, plus model-related API entries.\"\"\"\u001b[39;00m\n\u001b[1;32m     18\u001b[0m \u001b[39mfrom\u001b[39;00m \u001b[39mtensorflow\u001b[39;00m\u001b[39m.\u001b[39;00m\u001b[39mpython\u001b[39;00m\u001b[39m.\u001b[39;00m\u001b[39mframework\u001b[39;00m \u001b[39mimport\u001b[39;00m ops\n\u001b[0;32m---> 19\u001b[0m \u001b[39mfrom\u001b[39;00m \u001b[39mtensorflow\u001b[39;00m\u001b[39m.\u001b[39;00m\u001b[39mpython\u001b[39;00m\u001b[39m.\u001b[39;00m\u001b[39mkeras\u001b[39;00m \u001b[39mimport\u001b[39;00m backend\n\u001b[1;32m     20\u001b[0m \u001b[39mfrom\u001b[39;00m \u001b[39mtensorflow\u001b[39;00m\u001b[39m.\u001b[39;00m\u001b[39mpython\u001b[39;00m\u001b[39m.\u001b[39;00m\u001b[39mkeras\u001b[39;00m \u001b[39mimport\u001b[39;00m metrics \u001b[39mas\u001b[39;00m metrics_module\n\u001b[1;32m     21\u001b[0m \u001b[39mfrom\u001b[39;00m \u001b[39mtensorflow\u001b[39;00m\u001b[39m.\u001b[39;00m\u001b[39mpython\u001b[39;00m\u001b[39m.\u001b[39;00m\u001b[39mkeras\u001b[39;00m \u001b[39mimport\u001b[39;00m optimizer_v1\n",
      "File \u001b[0;32m~/.local/lib/python3.10/site-packages/tensorflow/python/keras/backend.py:6050\u001b[0m\n\u001b[1;32m   6042\u001b[0m     seed \u001b[39m=\u001b[39m np\u001b[39m.\u001b[39mrandom\u001b[39m.\u001b[39mrandint(\u001b[39m10e6\u001b[39m)\n\u001b[1;32m   6043\u001b[0m   \u001b[39mreturn\u001b[39;00m random_ops\u001b[39m.\u001b[39mrandom_normal(\n\u001b[1;32m   6044\u001b[0m       shape, mean\u001b[39m=\u001b[39mmean, stddev\u001b[39m=\u001b[39mstddev, dtype\u001b[39m=\u001b[39mdtype, seed\u001b[39m=\u001b[39mseed)\n\u001b[1;32m   6047\u001b[0m \u001b[39m@keras_export\u001b[39;49m(\u001b[39m'\u001b[39;49m\u001b[39mkeras.backend.random_uniform\u001b[39;49m\u001b[39m'\u001b[39;49m)\n\u001b[1;32m   6048\u001b[0m \u001b[39m@dispatch\u001b[39;49m\u001b[39m.\u001b[39;49madd_dispatch_support\n\u001b[1;32m   6049\u001b[0m \u001b[39m@doc_controls\u001b[39;49m\u001b[39m.\u001b[39;49mdo_not_generate_docs\n\u001b[0;32m-> 6050\u001b[0m \u001b[39mdef\u001b[39;49;00m \u001b[39mrandom_uniform\u001b[39;49m(shape, minval\u001b[39m=\u001b[39;49m\u001b[39m0.0\u001b[39;49m, maxval\u001b[39m=\u001b[39;49m\u001b[39m1.0\u001b[39;49m, dtype\u001b[39m=\u001b[39;49m\u001b[39mNone\u001b[39;49;00m, seed\u001b[39m=\u001b[39;49m\u001b[39mNone\u001b[39;49;00m):\n\u001b[1;32m   6051\u001b[0m \u001b[39m  \u001b[39;49m\u001b[39m\"\"\"Returns a tensor with uniform distribution of values.\u001b[39;49;00m\n\u001b[1;32m   6052\u001b[0m \n\u001b[1;32m   6053\u001b[0m \u001b[39m  Args:\u001b[39;49;00m\n\u001b[0;32m   (...)\u001b[0m\n\u001b[1;32m   6071\u001b[0m \u001b[39m  dtype=float32)>\u001b[39;49;00m\n\u001b[1;32m   6072\u001b[0m \u001b[39m  \"\"\"\u001b[39;49;00m\n\u001b[1;32m   6073\u001b[0m   \u001b[39mif\u001b[39;49;00m dtype \u001b[39mis\u001b[39;49;00m \u001b[39mNone\u001b[39;49;00m:\n",
      "File \u001b[0;32m~/.local/lib/python3.10/site-packages/tensorflow/python/util/dispatch.py:1197\u001b[0m, in \u001b[0;36madd_dispatch_support\u001b[0;34m(target, iterable_parameters)\u001b[0m\n\u001b[1;32m   1195\u001b[0m   \u001b[39mreturn\u001b[39;00m decorator\n\u001b[1;32m   1196\u001b[0m \u001b[39melse\u001b[39;00m:\n\u001b[0;32m-> 1197\u001b[0m   \u001b[39mreturn\u001b[39;00m decorator(target)\n",
      "File \u001b[0;32m~/.local/lib/python3.10/site-packages/tensorflow/python/util/dispatch.py:1187\u001b[0m, in \u001b[0;36madd_dispatch_support.<locals>.decorator\u001b[0;34m(dispatch_target)\u001b[0m\n\u001b[1;32m   1184\u001b[0m       \u001b[39mraise\u001b[39;00m\n\u001b[1;32m   1186\u001b[0m add_fallback_dispatch_list(op_dispatch_handler)\n\u001b[0;32m-> 1187\u001b[0m op_dispatch_handler \u001b[39m=\u001b[39m tf_decorator\u001b[39m.\u001b[39;49mmake_decorator(dispatch_target,\n\u001b[1;32m   1188\u001b[0m                                                   op_dispatch_handler)\n\u001b[1;32m   1189\u001b[0m add_type_based_api_dispatcher(op_dispatch_handler)\n\u001b[1;32m   1190\u001b[0m api_dispatcher \u001b[39m=\u001b[39m \u001b[39mgetattr\u001b[39m(op_dispatch_handler, TYPE_BASED_DISPATCH_ATTR,\n\u001b[1;32m   1191\u001b[0m                          \u001b[39mNone\u001b[39;00m)\n",
      "File \u001b[0;32m~/.local/lib/python3.10/site-packages/tensorflow/python/util/tf_decorator.py:136\u001b[0m, in \u001b[0;36mmake_decorator\u001b[0;34m(target, decorator_func, decorator_name, decorator_doc, decorator_argspec)\u001b[0m\n\u001b[1;32m    134\u001b[0m \u001b[39mif\u001b[39;00m decorator_name \u001b[39mis\u001b[39;00m \u001b[39mNone\u001b[39;00m:\n\u001b[1;32m    135\u001b[0m   decorator_name \u001b[39m=\u001b[39m inspect\u001b[39m.\u001b[39mcurrentframe()\u001b[39m.\u001b[39mf_back\u001b[39m.\u001b[39mf_code\u001b[39m.\u001b[39mco_name\n\u001b[0;32m--> 136\u001b[0m decorator \u001b[39m=\u001b[39m TFDecorator(decorator_name, target, decorator_doc,\n\u001b[1;32m    137\u001b[0m                         decorator_argspec)\n\u001b[1;32m    138\u001b[0m \u001b[39msetattr\u001b[39m(decorator_func, \u001b[39m'\u001b[39m\u001b[39m_tf_decorator\u001b[39m\u001b[39m'\u001b[39m, decorator)\n\u001b[1;32m    139\u001b[0m \u001b[39m# Objects that are callables (e.g., a functools.partial object) may not have\u001b[39;00m\n\u001b[1;32m    140\u001b[0m \u001b[39m# the following attributes.\u001b[39;00m\n",
      "File \u001b[0;32m~/.local/lib/python3.10/site-packages/tensorflow/python/util/tf_decorator.py:317\u001b[0m, in \u001b[0;36mTFDecorator.__init__\u001b[0;34m(self, decorator_name, target, decorator_doc, decorator_argspec)\u001b[0m\n\u001b[1;32m    315\u001b[0m \u001b[39mself\u001b[39m\u001b[39m.\u001b[39m_decorator_doc \u001b[39m=\u001b[39m decorator_doc\n\u001b[1;32m    316\u001b[0m \u001b[39mself\u001b[39m\u001b[39m.\u001b[39m_decorator_argspec \u001b[39m=\u001b[39m decorator_argspec\n\u001b[0;32m--> 317\u001b[0m \u001b[39mif\u001b[39;00m \u001b[39mhasattr\u001b[39;49m(target, \u001b[39m'\u001b[39;49m\u001b[39m__name__\u001b[39;49m\u001b[39m'\u001b[39;49m):\n\u001b[1;32m    318\u001b[0m   \u001b[39mself\u001b[39m\u001b[39m.\u001b[39m\u001b[39m__name__\u001b[39m \u001b[39m=\u001b[39m target\u001b[39m.\u001b[39m\u001b[39m__name__\u001b[39m\n\u001b[1;32m    319\u001b[0m \u001b[39mif\u001b[39;00m \u001b[39mhasattr\u001b[39m(target, \u001b[39m'\u001b[39m\u001b[39m__qualname__\u001b[39m\u001b[39m'\u001b[39m):\n",
      "\u001b[0;31mKeyboardInterrupt\u001b[0m: "
     ]
    }
   ],
   "source": [
    "# import libraries\n",
    "\n",
    "import pandas as pd\n",
    "import tensorflow as tf\n",
    "import matplotlib.pyplot as plt\n",
    "\n",
    "from tensorflow import keras\n",
    "from keras.models import Sequential\n",
    "from keras.layers import Dense\n",
    "from keras.utils.vis_utils import plot_model"
   ]
  },
  {
   "cell_type": "code",
   "execution_count": null,
   "metadata": {},
   "outputs": [],
   "source": [
    "# run the data_processing file to get the training and validation sets\n",
    "\n",
    "%run ../data_processing.ipynb"
   ]
  },
  {
   "cell_type": "code",
   "execution_count": null,
   "metadata": {},
   "outputs": [],
   "source": [
    "# compile parameters (can be updated for different variations and test)\n",
    "X_TRAIN = x_train\n",
    "Y_TRAIN = y_train\n",
    "\n",
    "X_VALID = x_valid\n",
    "Y_VALID = y_valid\n",
    "\n",
    "VALIDATION = (x_valid, y_valid)\n",
    "\n",
    "ACTIVATION_FUNCTION = 'relu'\n",
    "ACTIVATION_FUNCTION_OUTPUT = 'softmax'\n",
    "EPOCHS = 50\n",
    "INPUT_DIM = 12\n",
    "KERNEL_INITIALIZER = 'he_uniform'\n",
    "LEARNING_RATE = 0.03\n",
    "LOSS_FUNCTION = 'categorical_crossentropy'\n",
    "METRICS = ['accuracy']\n",
    "OPTIMIZER = tf.optimizers.Adam(learning_rate=LEARNING_RATE)\n",
    "VERBOSE = 0\n",
    "\n",
    "# list of batch sizes to test (can be updated to test different batch sizes)\n",
    "batch_sizes = [16, 32, 64, 128, 256, 512]\n",
    "\n",
    "# dataframe to hold the loss and accuracy for each batch size\n",
    "df_result = pd.DataFrame(columns=['batch_size', 'training_loss',\n",
    "                                  'training_accuracy', 'validation_loss',\n",
    "                                  'validation_accuracy'])\n",
    "\n",
    "# clears the dataset to avoid redundancy\n",
    "df_result = df_result.iloc[0:0]"
   ]
  },
  {
   "cell_type": "code",
   "execution_count": null,
   "metadata": {},
   "outputs": [],
   "source": [
    "# create a baseline classifier\n",
    "def create_baseline():\n",
    "\n",
    "    # init a sequential NN\n",
    "    classifier = Sequential()\n",
    "\n",
    "    # Define the model architecture\n",
    "    \n",
    "    # 1st layer - takes in input\n",
    "    classifier.add(Dense(units=512, kernel_initializer=KERNEL_INITIALIZER,\n",
    "                         activation=ACTIVATION_FUNCTION, input_dim=INPUT_DIM))\n",
    "    # 2nd layer\n",
    "    classifier.add(Dense(units=128, kernel_initializer=KERNEL_INITIALIZER,\n",
    "                         activation=ACTIVATION_FUNCTION))\n",
    "    # 3rd layer\n",
    "    classifier.add(Dense(units=96, kernel_initializer=KERNEL_INITIALIZER,\n",
    "                         activation=ACTIVATION_FUNCTION))\n",
    "    # output layer\n",
    "    classifier.add(Dense(units=2, kernel_initializer=KERNEL_INITIALIZER,\n",
    "                         activation=ACTIVATION_FUNCTION_OUTPUT))\n",
    "\n",
    "    return classifier"
   ]
  },
  {
   "cell_type": "code",
   "execution_count": null,
   "metadata": {},
   "outputs": [],
   "source": [
    "# loop through the batch_sizes list to test all the batch sizes\n",
    "for BATCH_SIZE in batch_sizes:\n",
    "    \n",
    "    # create a baseline model\n",
    "    model = create_baseline()\n",
    "\n",
    "    # compile the model with values defined above\n",
    "    model.compile(optimizer=OPTIMIZER,\n",
    "                  loss=LOSS_FUNCTION, metrics=METRICS)\n",
    "    \n",
    "    # train the model\n",
    "    history = model.fit(X_TRAIN, Y_TRAIN, validation_data=VALIDATION,\n",
    "                            epochs=EPOCHS, batch_size=BATCH_SIZE,\n",
    "                            verbose=VERBOSE)\n",
    "\n",
    "    # plot\n",
    "    pd.DataFrame(history.history).plot(figsize=(8,5))\n",
    "    plt.grid = True\n",
    "    plt.ylim(0, 1)\n",
    "    plt.title('Batch Size: ' + str(BATCH_SIZE))\n",
    "    plt.savefig('figures/batch_size_'+str(BATCH_SIZE)+'.png')\n",
    "    plt.show()\n",
    "\n",
    "    # evaluation - loss and accuracy\n",
    "    model_train_loss, model_train_accuracy = model.evaluate(X_TRAIN, Y_TRAIN,\n",
    "                                                            verbose=VERBOSE)\n",
    "    model_valid_loss, model_valid_accuracy = model.evaluate(X_VALID, Y_VALID,\n",
    "                                                            verbose=VERBOSE)\n",
    "\n",
    "    # add the evaluation results to the dataset\n",
    "    df_result = pd.concat([pd.DataFrame([[BATCH_SIZE, model_train_loss,\n",
    "                                         model_train_accuracy,\n",
    "                                         model_valid_loss,\n",
    "                                         model_valid_accuracy]],\n",
    "                                         columns=df_result.columns),\n",
    "                                         df_result],\n",
    "                                         ignore_index=True)"
   ]
  },
  {
   "cell_type": "code",
   "execution_count": null,
   "metadata": {},
   "outputs": [],
   "source": [
    "# display the evaluation results dataframe\n",
    "\n",
    "df_result"
   ]
  },
  {
   "cell_type": "code",
   "execution_count": null,
   "metadata": {},
   "outputs": [],
   "source": [
    "# visualize loss for training and validation sets\n",
    "\n",
    "# x values\n",
    "x = ['training_loss', 'validation_loss']\n",
    "\n",
    "# training and validation loss for each batch size\n",
    "for _idx in range(df_result.shape[0]):\n",
    "    plt.plot(x, [df_result.iloc[_idx]['training_loss'],\n",
    "                 df_result.iloc[_idx]['validation_loss']],\n",
    "                 label=str(df_result.iloc[_idx]['batch_size']))\n",
    "\n",
    "# plot\n",
    "plt.grid = True\n",
    "plt.ylim(0, 1)\n",
    "plt.title('Model Loss with varying Batch Sizes')\n",
    "plt.legend(loc='upper right')\n",
    "plt.savefig('figures/loss.png')\n",
    "plt.show()"
   ]
  },
  {
   "cell_type": "code",
   "execution_count": null,
   "metadata": {},
   "outputs": [],
   "source": [
    "# visualize accuracy for training and validation sets\n",
    "\n",
    "# x values\n",
    "x = ['training_accuracy', 'validation_accuracy']\n",
    "\n",
    "# training and validation accuracy for each batch size\n",
    "for _idx in range(df_result.shape[0]):\n",
    "    plt.plot(x, [df_result.iloc[_idx]['training_accuracy'],\n",
    "                 df_result.iloc[_idx]['validation_accuracy']],\n",
    "                 label=str(df_result.iloc[_idx]['batch_size']))\n",
    "\n",
    "# plot\n",
    "plt.grid = True\n",
    "plt.ylim(0, 1)\n",
    "plt.title('Model Accuracy with varying Batch Sizes')\n",
    "plt.legend(loc='upper right')\n",
    "plt.savefig('figures/accuracy.png')\n",
    "plt.show()"
   ]
  }
 ],
 "metadata": {
  "kernelspec": {
   "display_name": "Python 3",
   "language": "python",
   "name": "python3"
  },
  "language_info": {
   "codemirror_mode": {
    "name": "ipython",
    "version": 3
   },
   "file_extension": ".py",
   "mimetype": "text/x-python",
   "name": "python",
   "nbconvert_exporter": "python",
   "pygments_lexer": "ipython3",
   "version": "3.10.7"
  },
  "orig_nbformat": 4
 },
 "nbformat": 4,
 "nbformat_minor": 2
}
