{
 "cells": [
  {
   "cell_type": "code",
   "execution_count": null,
   "metadata": {},
   "outputs": [],
   "source": [
    "# import libraries\n",
    "\n",
    "import pandas as pd\n",
    "import tensorflow as tf\n",
    "import matplotlib.pyplot as plt\n",
    "\n",
    "from tensorflow import keras\n",
    "from keras.models import Sequential\n",
    "from keras.layers import Dense\n",
    "from keras.utils.vis_utils import plot_model"
   ]
  },
  {
   "cell_type": "code",
   "execution_count": null,
   "metadata": {},
   "outputs": [],
   "source": [
    "# run the data_processing file to get the training and validation sets\n",
    "\n",
    "%run ../data_processing.ipynb"
   ]
  },
  {
   "cell_type": "code",
   "execution_count": null,
   "metadata": {},
   "outputs": [],
   "source": [
    "# create a baseline classifier\n",
    "def create_baseline():\n",
    "\n",
    "    # init a sequential NN\n",
    "    classifier = Sequential()\n",
    "\n",
    "    # Define the model architecture\n",
    "    \n",
    "    # 1st layer - takes in input\n",
    "    classifier.add(Dense(units=512, kernel_initializer='he_uniform',\n",
    "                         activation='relu', input_dim=12))\n",
    "    # 2nd layer\n",
    "    classifier.add(Dense(units=128, kernel_initializer='he_uniform',\n",
    "                         activation='relu'))\n",
    "    # 3rd layer\n",
    "    classifier.add(Dense(units=96, kernel_initializer='he_uniform',\n",
    "                         activation='relu'))\n",
    "    # output layer\n",
    "    classifier.add(Dense(units=2, kernel_initializer='he_uniform',\n",
    "                         activation='softmax'))\n",
    "\n",
    "    return classifier"
   ]
  },
  {
   "cell_type": "code",
   "execution_count": null,
   "metadata": {},
   "outputs": [],
   "source": [
    "# compile parameters (can be updated for different variations and test)\n",
    "X_TRAIN = x_train\n",
    "Y_TRAIN = y_train\n",
    "\n",
    "X_VALID = x_valid\n",
    "Y_VALID = y_valid\n",
    "\n",
    "VALIDATION = (x_valid, y_valid)\n",
    "\n",
    "EPOCHS = 50\n",
    "BATCH_SIZE = 32\n",
    "VERBOSE = 0\n",
    "\n",
    "# list of learning rates to test (can be updated to test differentlearning rates)\n",
    "learning_rates = [0.001, 0.003, 0.01, 0.03, 0.1, 0.3]\n",
    "\n",
    "# dataframe to hold the loss and accuracy for each learning rate\n",
    "df_result = pd.DataFrame(columns=['learning_rate', 'training_loss',\n",
    "                                  'training_accuracy', 'validation_loss',\n",
    "                                  'validation_accuracy'])\n",
    "\n",
    "# clears the dataset to avoid redundancy\n",
    "df_result = df_result.iloc[0:0]"
   ]
  },
  {
   "cell_type": "code",
   "execution_count": null,
   "metadata": {},
   "outputs": [],
   "source": [
    "# loop through the learning_rates list to test all the learning rates\n",
    "for LEARNING_RATE in learning_rates:\n",
    "    \n",
    "    # create a baseline model\n",
    "    model = create_baseline()\n",
    "\n",
    "    # compile the model with values defined above\n",
    "    model.compile(optimizer=tf.optimizers.Adam(learning_rate=LEARNING_RATE),\n",
    "                  loss='categorical_crossentropy', metrics=['accuracy'])\n",
    "    \n",
    "    # train the model\n",
    "    history = model.fit(X_TRAIN, Y_TRAIN, validation_data=VALIDATION,\n",
    "                            epochs=EPOCHS, batch_size=BATCH_SIZE,\n",
    "                            verbose=VERBOSE)\n",
    "\n",
    "    # plot\n",
    "    pd.DataFrame(history.history).plot(figsize=(8,5))\n",
    "    plt.grid = True\n",
    "    plt.show()\n",
    "\n",
    "    # save figure\n",
    "    plt.savefig('figures/learning_rate_'+str(LEARNING_RATE)+'.png')\n",
    "\n",
    "    # evaluation - loss and accuracy\n",
    "    model_train_loss, model_train_accuracy = model.evaluate(X_TRAIN, Y_TRAIN,\n",
    "                                                            verbose=VERBOSE)\n",
    "    model_valid_loss, model_valid_accuracy = model.evaluate(X_VALID, Y_VALID,\n",
    "                                                            verbose=VERBOSE)\n",
    "\n",
    "    # add the evaluation results to the dataset\n",
    "    df_result = pd.concat([pd.DataFrame([[LEARNING_RATE, model_train_loss,\n",
    "                                         model_train_accuracy,\n",
    "                                         model_valid_loss,\n",
    "                                         model_valid_accuracy]],\n",
    "                                         columns=df_result.columns),\n",
    "                                         df_result],\n",
    "                                         ignore_index=True)"
   ]
  },
  {
   "cell_type": "code",
   "execution_count": null,
   "metadata": {},
   "outputs": [],
   "source": [
    "# display the evaluation results dataframe\n",
    "\n",
    "df_result"
   ]
  },
  {
   "cell_type": "code",
   "execution_count": null,
   "metadata": {},
   "outputs": [],
   "source": [
    "# visualize loss for training and validation sets\n",
    "\n",
    "# x values\n",
    "x = ['training_loss', 'validation_loss']\n",
    "\n",
    "# training and validation loss for each learning rate\n",
    "for _idx in range(df_result.shape[0]):\n",
    "    plt.plot(x, [df_result.iloc[_idx]['training_loss'],\n",
    "                 df_result.iloc[_idx]['validation_loss']],\n",
    "                 label=str(df_result.iloc[_idx]['learning_rate']))\n",
    "\n",
    "# plot\n",
    "plt.grid = True\n",
    "plt.title('Loss')\n",
    "plt.legend(loc='upper right')\n",
    "plt.show()\n",
    "\n",
    "# save figure\n",
    "plt.savefig('figures/loss.png')"
   ]
  },
  {
   "cell_type": "code",
   "execution_count": null,
   "metadata": {},
   "outputs": [],
   "source": [
    "# visualize accuracy for training and validation sets\n",
    "\n",
    "# x values\n",
    "x = ['training_accuracy', 'validation_accuracy']\n",
    "\n",
    "# training and validation accuracy for each learning rate\n",
    "for _idx in range(df_result.shape[0]):\n",
    "    plt.plot(x, [df_result.iloc[_idx]['training_accuracy'],\n",
    "                 df_result.iloc[_idx]['validation_accuracy']],\n",
    "                 label=str(df_result.iloc[_idx]['learning_rate']))\n",
    "\n",
    "# plot\n",
    "plt.grid = True\n",
    "plt.title('Accuracy')\n",
    "plt.legend(loc='upper right')\n",
    "plt.show()\n",
    "\n",
    "# save figure\n",
    "plt.savefig('figures/accuracy.png')"
   ]
  }
 ],
 "metadata": {
  "kernelspec": {
   "display_name": "Python 3",
   "language": "python",
   "name": "python3"
  },
  "language_info": {
   "codemirror_mode": {
    "name": "ipython",
    "version": 3
   },
   "file_extension": ".py",
   "mimetype": "text/x-python",
   "name": "python",
   "nbconvert_exporter": "python",
   "pygments_lexer": "ipython3",
   "version": "3.10.7"
  },
  "orig_nbformat": 4
 },
 "nbformat": 4,
 "nbformat_minor": 2
}
